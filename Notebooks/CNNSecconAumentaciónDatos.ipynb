{
  "nbformat": 4,
  "nbformat_minor": 0,
  "metadata": {
    "colab": {
      "name": "CNNSecconAumentaciónDatos.ipynb",
      "provenance": [],
      "private_outputs": true,
      "authorship_tag": "ABX9TyPDj6RaAosYyFHm3Dgr+tkp",
      "include_colab_link": true
    },
    "kernelspec": {
      "name": "python3",
      "display_name": "Python 3"
    },
    "accelerator": "GPU"
  },
  "cells": [
    {
      "cell_type": "markdown",
      "metadata": {
        "id": "view-in-github",
        "colab_type": "text"
      },
      "source": [
        "<a href=\"https://colab.research.google.com/github/pikey-msc/DeepLearn/blob/master/Notebooks/CNNSecconAumentaci%C3%B3nDatos.ipynb\" target=\"_parent\"><img src=\"https://colab.research.google.com/assets/colab-badge.svg\" alt=\"Open In Colab\"/></a>"
      ]
    },
    {
      "cell_type": "markdown",
      "metadata": {
        "id": "QDCWx4Ah--UU",
        "colab_type": "text"
      },
      "source": [
        "#CNN Secuencial\n",
        "**Conjunto de datos de imágenes pequeñas CIFAR10**\n",
        "\n",
        "CNN tomada de los ejemplos de KERAS para explicar el Modelo CNN-Secuencial\n",
        "\n",
        "El propósito es:\n",
        "\n",
        "1. Introducir la Aumentación de Datos. Este consiste en modificar ligera y \n",
        "aleatoriamente cada imagen del conjunto de entrenamiento con el fin de \n",
        "incrementar la variación de el mismo,\n",
        "\n",
        "2. Funciones para salvar modelos y pesos\n",
        "\n",
        "3. Visualización de redes\n",
        "\n",
        "**Según una nota en el ejemplo original**\n",
        "\n",
        "75% accuracy en 25 épocas\n",
        "\n",
        "79% accuracy en 50 épocas\n",
        "\n",
        "Y probablemente aun esta subajustada\n",
        "\n",
        "La base de datos CIFAR-10 1 consiste\n",
        "de:\n",
        "\n",
        "60000 imágenes de color de 32x32 pixeles con 10 clases,\n",
        "\n",
        "6000 imágenes por clase.\n",
        "\n",
        "Repartidas en 50,000 imágenes de entrenamiento y 10,000 de prueba.\n",
        "\n",
        "[1] Alex Krizhevsky, Learning Multiple Layers of Features from Tiny Images, Chpt 3, Tech Rep, 2009."
      ]
    },
    {
      "cell_type": "code",
      "metadata": {
        "id": "cH01XGKz_sTV",
        "colab_type": "code",
        "colab": {}
      },
      "source": [
        "from __future__ import print_function\n",
        "import keras\n",
        "from keras.datasets import cifar10\n",
        "from keras.preprocessing.image import ImageDataGenerator\n",
        "from keras.models import Sequential\n",
        "from keras.layers import Dense, Dropout, Activation, Flatten\n",
        "from keras.layers import Conv2D, MaxPooling2D\n",
        "from keras.utils import plot_model\n",
        "\n",
        "import numpy as np\n",
        "import os"
      ],
      "execution_count": null,
      "outputs": []
    },
    {
      "cell_type": "markdown",
      "metadata": {
        "id": "_NNyduVe_tU0",
        "colab_type": "text"
      },
      "source": [
        "Se usará entrenamiento por lotes (batch) que consiste actualizar mediante Backpropagation el gradiente promedio del lote.\n",
        "\n",
        "La épocas (epoch) son el número de iteraciones totales sobre todos los datos.\n",
        "\n",
        "Los datos pueden ser aumentados (data_augmentation = True) mediante desplazamientos (shift) de las imagenes, rotaciones, reflexiones. Ver parámetros en ImageDataGenerator"
      ]
    },
    {
      "cell_type": "markdown",
      "metadata": {
        "id": "XFnPTkLJ_0A3",
        "colab_type": "text"
      },
      "source": [
        "## Lectura de imágenes de la base de datos CIFER-10"
      ]
    },
    {
      "cell_type": "code",
      "metadata": {
        "id": "Ae-qTEed_358",
        "colab_type": "code",
        "colab": {}
      },
      "source": [
        "(x_train, y_train), (x_test, y_test)       = cifar10.load_data()\n",
        "(trainimages, numrows, numcols, numcolors) = x_train.shape\n",
        "\n",
        "# normalización\n",
        "x_train  = x_train.astype('float32') / 255.\n",
        "x_test   = x_test.astype('float32')  / 255.\n",
        "\n",
        "print('x_train shape:', trainimages, numrows, numcols, numcolors)\n",
        "print(x_train.shape[0], 'train samples')\n",
        "print(x_test.shape[0],  'test samples')"
      ],
      "execution_count": null,
      "outputs": []
    },
    {
      "cell_type": "markdown",
      "metadata": {
        "id": "fpXeTB5j__wz",
        "colab_type": "text"
      },
      "source": [
        "**Ejemplos de imágenes de CIFER-10**\n",
        "\n",
        "Las categorias son\n",
        "\n",
        "* airplane\n",
        "* automobile\n",
        "* bird\n",
        "* cat\n",
        "* deer\n",
        "* dog\n",
        "* frog\n",
        "* horse\n",
        "* ship\n",
        "* truck"
      ]
    },
    {
      "cell_type": "code",
      "metadata": {
        "id": "b99eOVb5AN51",
        "colab_type": "code",
        "colab": {}
      },
      "source": [
        "import matplotlib.pyplot as plt\n",
        "%matplotlib inline\n",
        "\n",
        "names = ['airplane', 'automobile', 'bird', 'cat', 'deer', 'dog', 'frog', 'horse', 'ship', 'truck']\n",
        "num_classes=len(names)\n",
        "\n",
        "fig, ax = plt.subplots(figsize=(13,5), nrows=2, ncols=5, sharex=True, sharey=True,)\n",
        "fig.suptitle('Casos de cada clase')\n",
        "ax = ax.flatten()\n",
        "for i in range(10):\n",
        "    ax[i].imshow(x_train[list(y_train).index(i),:,:,:], interpolation='nearest')\n",
        "    ax[i].set_xlabel(str(i) + ': '+ names[i])\n",
        "\n",
        "ax[0].set_xticks([])\n",
        "ax[0].set_yticks([])\n",
        "#plt.savefig('cimfar-10.png')\n",
        "plt.show()"
      ],
      "execution_count": null,
      "outputs": []
    },
    {
      "cell_type": "markdown",
      "metadata": {
        "id": "Md0zKH0bAD9j",
        "colab_type": "text"
      },
      "source": [
        "Primeras imágenes"
      ]
    },
    {
      "cell_type": "code",
      "metadata": {
        "id": "ACDPijB0AU6G",
        "colab_type": "code",
        "colab": {}
      },
      "source": [
        "import matplotlib.pyplot as plt\n",
        "%matplotlib inline\n",
        "\n",
        "\n",
        "rows_imgs=10\n",
        "cols_imgs=16\n",
        "fig, ax = plt.subplots(figsize=(16,10), nrows=rows_imgs, ncols=cols_imgs, sharex=True, sharey=True,)\n",
        "fig.suptitle('Primeras Imágenes')\n",
        "ax = ax.flatten()\n",
        "for i in range(rows_imgs*cols_imgs):\n",
        "    ax[i].imshow(x_train[i], interpolation='nearest')\n",
        "    idx = y_train[i][0]\n",
        "    #ax[i].set_xlabel(str(idx)+': '+ names[idx])\n",
        "ax[0].set_xticks([])\n",
        "ax[0].set_yticks([])\n",
        "#plt.savefig('cimfar-10-a.png')\n",
        "plt.subplots_adjust(wspace=0.01, hspace=0.01)\n",
        "\n",
        "plt.show()"
      ],
      "execution_count": null,
      "outputs": []
    },
    {
      "cell_type": "markdown",
      "metadata": {
        "id": "B--rKrAOAYEf",
        "colab_type": "text"
      },
      "source": [
        "## Histograma de ocurrencia de las clases\n",
        "Exactamente el mismo número de casos para cada clase de imágen (diferecia de MNIST, que es casi uniforme)"
      ]
    },
    {
      "cell_type": "code",
      "metadata": {
        "id": "ZATPURNtAcYt",
        "colab_type": "code",
        "colab": {}
      },
      "source": [
        "plt.hist(y_test)\n",
        "num_classes"
      ],
      "execution_count": null,
      "outputs": []
    },
    {
      "cell_type": "markdown",
      "metadata": {
        "id": "k17Nf0nWAesU",
        "colab_type": "text"
      },
      "source": [
        "##Conversión de etiquetas a vectores indicadores\n"
      ]
    },
    {
      "cell_type": "code",
      "metadata": {
        "id": "uNcmWgXWAjCN",
        "colab_type": "code",
        "colab": {}
      },
      "source": [
        "y_train = keras.utils.to_categorical(y_train, num_classes)\n",
        "y_test  = keras.utils.to_categorical(y_test,  num_classes)"
      ],
      "execution_count": null,
      "outputs": []
    },
    {
      "cell_type": "code",
      "metadata": {
        "id": "oiyPW0BSAk_9",
        "colab_type": "code",
        "colab": {}
      },
      "source": [
        "plt.subplots(figsize=(5,5))\n",
        "plt.imshow(y_train[0:15,:], cmap='gray', interpolation='nearest')\n",
        "plt.ylabel('Etiqueta')\n",
        "plt.xlabel('Clases')\n",
        "#plt.savefig('vectores_infocadores.png')\n",
        "plt.show()"
      ],
      "execution_count": null,
      "outputs": []
    },
    {
      "cell_type": "markdown",
      "metadata": {
        "id": "F9OrOM-dAzKK",
        "colab_type": "text"
      },
      "source": [
        "##Definición del Modelo CNN-Sequencial\n",
        "Se observan una arquitectura de dos etapas\n",
        "\n",
        "1 Etapa tipo CNN:\n",
        "\n",
        "* Se **incrementa el número de filtros** (en 2D: 32->32->64->64)\n",
        "\n",
        "* Se **reducen las dimensiones de las salidas** (Maxpooling)\n",
        "\n",
        "* Se **controla la complejidad del modelo** (Dropout)\n",
        "\n",
        "2 Etapa de decisión tipo **MLP**\n",
        "\n",
        "* **Capa Oculta** Plana (de 2D a Plana con capa oculta *Flatten*)\n",
        "\n",
        "* **Capa de salida** de numClases"
      ]
    },
    {
      "cell_type": "code",
      "metadata": {
        "id": "DLrjGe5dBQHV",
        "colab_type": "code",
        "colab": {}
      },
      "source": [
        "model = Sequential()\n",
        "\n",
        "model.add(Conv2D(filters        = 32, \n",
        "                 kernel_size    = (3, 3), \n",
        "                 padding        = 'same', \n",
        "                 activation     = 'relu', \n",
        "                 input_shape    = x_train.shape[1:]))\n",
        "\n",
        "model.add(Conv2D(filters        = 32, \n",
        "                 kernel_size    = (3, 3), \n",
        "                 activation     = 'relu'))\n",
        "model.add(MaxPooling2D(pool_size= (2, 2)))\n",
        "model.add(Dropout(0.25))\n",
        "\n",
        "model.add(Conv2D(filters        = 64, \n",
        "                 kernel_size    = (3, 3), \n",
        "                 padding        = 'same',  \n",
        "                 activation     = 'relu'))\n",
        "\n",
        "model.add(Conv2D(filters        = 64, \n",
        "                 kernel_size    = (3, 3),  \n",
        "                 activation     = 'relu'))\n",
        "model.add(MaxPooling2D(pool_size= (2, 2)))\n",
        "model.add(Dropout(0.25))\n",
        "\n",
        "model.add(Flatten())\n",
        "\n",
        "model.add(Dense(units=512, activation= 'relu'))\n",
        "model.add(Dropout(0.25))\n",
        "\n",
        "model.add(Dense(units=num_classes, activation= 'softmax'))\n",
        "\n",
        "model.summary()\n",
        "\n",
        "plot_model(model, to_file='cnn_aumenta.png', show_shapes=True)"
      ],
      "execution_count": null,
      "outputs": []
    },
    {
      "cell_type": "markdown",
      "metadata": {
        "id": "6JW3bxNBBQ8B",
        "colab_type": "text"
      },
      "source": [
        "![image.png](data:image/png;base64,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)"
      ]
    },
    {
      "cell_type": "markdown",
      "metadata": {
        "id": "8d-bcPc6Bgc5",
        "colab_type": "text"
      },
      "source": [
        "### Inicializando el optimizador\n",
        "Usaremos el algoritmo de optimización ``rmsprop``, y definimos una razón de prendizaje (``lr``) y un decaimimento de la misma (``decay``)."
      ]
    },
    {
      "cell_type": "code",
      "metadata": {
        "id": "Me-Vqv5LBvTR",
        "colab_type": "code",
        "colab": {}
      },
      "source": [
        "opt = keras.optimizers.RMSprop(lr=0.0001, decay=1e-6)"
      ],
      "execution_count": null,
      "outputs": []
    },
    {
      "cell_type": "markdown",
      "metadata": {
        "id": "iS2ZYUTSBxeM",
        "colab_type": "text"
      },
      "source": [
        "### Se compila el modelo, definiendo la función de pérdida, el optimizador y la métrica"
      ]
    },
    {
      "cell_type": "code",
      "metadata": {
        "id": "TMSYIw7aB0ib",
        "colab_type": "code",
        "colab": {}
      },
      "source": [
        "model.compile(loss      = 'categorical_crossentropy',\n",
        "              optimizer = opt,\n",
        "              metrics   = ['accuracy'])"
      ],
      "execution_count": null,
      "outputs": []
    },
    {
      "cell_type": "markdown",
      "metadata": {
        "id": "AxwC0tHyB2uK",
        "colab_type": "text"
      },
      "source": [
        "## Dos opciones para ajustar el modelo\n",
        "* con los datos directamente (sin aumentación de datos)\n",
        "\n",
        "* con datos aumentados: usando transformaciones de los datos para aumentar la variabilidad de los ejemplos disponibles"
      ]
    },
    {
      "cell_type": "code",
      "metadata": {
        "id": "cGnQHsJUCBGj",
        "colab_type": "code",
        "colab": {}
      },
      "source": [
        "batch_size        = 32           # tamaño del lote (batch), originalmente 32\n",
        "num_classes       = 10 \n",
        "epochs            = 50           # originalmente 100\n",
        "data_augmentation = True\n",
        "# num_predictions = 20"
      ],
      "execution_count": null,
      "outputs": []
    },
    {
      "cell_type": "markdown",
      "metadata": {
        "id": "nYkN_yRlCDKb",
        "colab_type": "text"
      },
      "source": [
        "El modelo entrenado (arquitectura y pesos) es almacenado en un archivo para su posterior uso.\n",
        "\n",
        "Archivo con los resultados: modelo y pesos"
      ]
    },
    {
      "cell_type": "code",
      "metadata": {
        "id": "cKWF9JX8CFqj",
        "colab_type": "code",
        "colab": {}
      },
      "source": [
        "save_dir   = os.path.join(os.getcwd(), 'saved_models')\n",
        "model_name = 'keras_cifar10_trained_model.h5' "
      ],
      "execution_count": null,
      "outputs": []
    },
    {
      "cell_type": "code",
      "metadata": {
        "id": "zIZFjhHYCJem",
        "colab_type": "code",
        "colab": {}
      },
      "source": [
        "\n",
        "# This will do preprocessing and realtime data augmentation:\n",
        "datagen = ImageDataGenerator(\n",
        "            featurewise_center           = False,  # pone la media de los rasgos a cero el conjunto de datos \n",
        "            samplewise_center            = False,  # pone cada dato a media cero\n",
        "            featurewise_std_normalization= False,  # divide cada razgo entre su desv estandard\n",
        "            samplewise_std_normalization = False,  # divide cada dato entre su desv estandard\n",
        "            zca_whitening                = False,  # aplica blanqueo ZCA\n",
        "            rotation_range               = 0,      # rota aleatoriamente la imagens estos grados (0 a +-180)\n",
        "            width_shift_range            = 0.1,    # recorre la imagen horizontalmente una razon alaatoria [0, r]\n",
        "            height_shift_range           = 0.1,    # recorre la imagen verticalmente una razon alaatoria [0, r]\n",
        "            horizontal_flip              = True,   # refleja aleatoriamente la imagen en forma horizontal\n",
        "            vertical_flip                = False)  # refleja aleatoriamente la imagen en forma vertical\n",
        "\n",
        "#  Calcula parametros internos necesario (medias, dev-std, PCA, etc).\n",
        "datagen.fit(x_train)\n",
        "\n",
        "# Ajusta el modelo en lotes generados \n",
        "model.fit_generator(datagen.flow(\n",
        "                                x          = x_train, \n",
        "                                y          = y_train,\n",
        "                                batch_size = batch_size\n",
        "                                ),\n",
        "                    steps_per_epoch = int(np.ceil(x_train.shape[0] / float(batch_size))),\n",
        "                    epochs          = epochs,\n",
        "                    validation_data = (x_test, y_test),\n",
        "                    verbose=1\n",
        "                   )"
      ],
      "execution_count": null,
      "outputs": []
    },
    {
      "cell_type": "code",
      "metadata": {
        "id": "TJaFX3-uCTDh",
        "colab_type": "code",
        "colab": {}
      },
      "source": [
        "if not data_augmentation:\n",
        "    print('SIN Aumentación de datos.')\n",
        "    model.fit(x         = x_train, \n",
        "              y         = y_train,\n",
        "              batch_size= batch_size,\n",
        "              epochs    = epochs,\n",
        "              validation_split=.2,\n",
        "              shuffle=True)\n",
        "else:\n",
        "    print('CON Aumentación de datos en tiempo real.')\n",
        "    # This will do preprocessing and realtime data augmentation:\n",
        "    datagen = ImageDataGenerator(\n",
        "                featurewise_center           = False,  # pone la media de los rasgos a cero el conjunto de datos \n",
        "                samplewise_center            = False,  # pone cada dato a media cero\n",
        "                featurewise_std_normalization= False,  # divide cada razgo entre su desv estandard\n",
        "                samplewise_std_normalization = False,  # divide cada dato entre su desv estandard\n",
        "                zca_whitening                = False,  # aplica blanqueo ZCA\n",
        "                rotation_range               = 0,      # rota aleatoriamente la imagens estos grados (0 a +-180)\n",
        "                width_shift_range            = 0.1,    # recorre la imagen horizontalmente una razon alaatoria [0, r]\n",
        "                height_shift_range           = 0.1,    # recorre la imagen verticalmente una razon alaatoria [0, r]\n",
        "                horizontal_flip              = True,   # refleja aleatoriamente la imagen en forma horizontal\n",
        "                vertical_flip                = False)  # refleja aleatoriamente la imagen en forma vertical\n",
        "    \n",
        "    #  Calcula parametros internos necesario (medias, dev-std, PCA, etc).\n",
        "    datagen.fit(x_train)\n",
        "\n",
        "    # Ajusta el modelo en lotes generados \n",
        "    model.fit_generator(datagen.flow(\n",
        "                                    x          = x_train, \n",
        "                                    y          = y_train,\n",
        "                                    batch_size = batch_size\n",
        "                                    ),\n",
        "                        steps_per_epoch = int(np.ceil(x_train.shape[0] / float(batch_size))),\n",
        "                        epochs          = epochs,\n",
        "                        validation_data = (x_test, y_test),\n",
        "                        verbose=1\n",
        "                       )\n"
      ],
      "execution_count": null,
      "outputs": []
    },
    {
      "cell_type": "markdown",
      "metadata": {
        "id": "2nCw8BRJCV7Q",
        "colab_type": "text"
      },
      "source": [
        "### Salvar el modelo y los pesos\n",
        "Primero probamos si existe el diectorio en que pretendemos crear el archivo con el modelo. Si no extste el directorio, creamos el directorio. Luego savamos el modelo y los pesos para su uso posterior."
      ]
    },
    {
      "cell_type": "code",
      "metadata": {
        "id": "Qxu9kgqECaxt",
        "colab_type": "code",
        "colab": {}
      },
      "source": [
        "if not os.path.isdir(save_dir):\n",
        "    os.makedirs(save_dir)\n",
        "model_path = os.path.join(save_dir, model_name)\n",
        "model.save(model_path)\n",
        "print('Saved trained model at %s ' % model_path)"
      ],
      "execution_count": null,
      "outputs": []
    },
    {
      "cell_type": "markdown",
      "metadata": {
        "id": "U17jvfCfCc1W",
        "colab_type": "text"
      },
      "source": [
        "### Evaluación "
      ]
    },
    {
      "cell_type": "code",
      "metadata": {
        "id": "HbWggFqCCeUi",
        "colab_type": "code",
        "colab": {}
      },
      "source": [
        "scores = model.evaluate(x_test, y_test, verbose=1)\n",
        "print('Test loss:', scores[0])\n",
        "print('Test accuracy:', scores[1])"
      ],
      "execution_count": null,
      "outputs": []
    },
    {
      "cell_type": "markdown",
      "metadata": {
        "id": "BmVRufxJCgNW",
        "colab_type": "text"
      },
      "source": [
        "###Visualizando la calidad de los resultados"
      ]
    },
    {
      "cell_type": "code",
      "metadata": {
        "id": "SIFsde8FCjm-",
        "colab_type": "code",
        "colab": {}
      },
      "source": [
        "import numpy as np\n",
        "\n",
        "y_pred = model.predict(x_test).squeeze()\n",
        "y_test_label = np.argmax(y_test,1) \n",
        "y_pred_label = np.argmax(y_pred,1)"
      ],
      "execution_count": null,
      "outputs": []
    },
    {
      "cell_type": "code",
      "metadata": {
        "id": "OHjvI-X6ClKt",
        "colab_type": "code",
        "colab": {}
      },
      "source": [
        "from sklearn.metrics import confusion_matrix, precision_score, recall_score, f1_score, cohen_kappa_score\n",
        "C=confusion_matrix(y_pred_label, y_test_label) \n",
        "C"
      ],
      "execution_count": null,
      "outputs": []
    },
    {
      "cell_type": "code",
      "metadata": {
        "id": "8OfYLPnYCn70",
        "colab_type": "code",
        "colab": {}
      },
      "source": [
        "import seaborn as sns\n",
        "# En escala logaritmica !\n",
        "#plt.title('Confusion Matrix')\n",
        "sns.heatmap(C, xticklabels=np.arange(10), yticklabels=np.arange(10))"
      ],
      "execution_count": null,
      "outputs": []
    },
    {
      "cell_type": "markdown",
      "metadata": {
        "id": "QNTa2wADCvDn",
        "colab_type": "text"
      },
      "source": [
        "**Precisión**\n",
        "\n",
        "$P = \\frac{tp}{tp+fp}$\n",
        "\n",
        "Precisión es la probabilidad de que un dato selecionado aleatoriamente sea relevante"
      ]
    },
    {
      "cell_type": "code",
      "metadata": {
        "id": "O5ybLRO0C0e6",
        "colab_type": "code",
        "colab": {}
      },
      "source": [
        "precision_score(y_pred_label, y_test_label, average='macro')"
      ],
      "execution_count": null,
      "outputs": []
    },
    {
      "cell_type": "markdown",
      "metadata": {
        "id": "OOMbhSnVC-la",
        "colab_type": "text"
      },
      "source": [
        "**Recall**\n",
        "\n",
        "$$R = \\frac{tp}{tp+fn}$$\n",
        "\n",
        "Recall es la probabilidad de que un dato relevante sea selecionado aleatoriamente."
      ]
    },
    {
      "cell_type": "code",
      "metadata": {
        "id": "GbpDzzktDM-4",
        "colab_type": "code",
        "colab": {}
      },
      "source": [
        "recall_score(y_pred_label, y_test_label,  average='macro')"
      ],
      "execution_count": null,
      "outputs": []
    },
    {
      "cell_type": "markdown",
      "metadata": {
        "id": "zW7B2eiADOAK",
        "colab_type": "text"
      },
      "source": [
        "F1-score\n",
        "$$F1 = \\frac{2}{\\frac{1}{P}+ \\frac{1}{R} } = 2*\\frac{P \\, R} {P+R}$$\n",
        "\n",
        "Media armónica de la presición y el recall. Penaliza el desvalance entre las métricas P y R"
      ]
    },
    {
      "cell_type": "code",
      "metadata": {
        "id": "Cl--Hz0pDVjP",
        "colab_type": "code",
        "colab": {}
      },
      "source": [
        "f1_score(y_pred_label, y_test_label,  average='macro')"
      ],
      "execution_count": null,
      "outputs": []
    },
    {
      "cell_type": "markdown",
      "metadata": {
        "id": "MVB-f_NTDX1n",
        "colab_type": "text"
      },
      "source": [
        "## Falta mas entrenamiento …"
      ]
    },
    {
      "cell_type": "code",
      "metadata": {
        "id": "BgAO_Iq3DaBD",
        "colab_type": "code",
        "colab": {}
      },
      "source": [
        "print('Clasificados correctamente =', np.sum(np.diag(C))/np.sum(C[:])*100, r'%')"
      ],
      "execution_count": null,
      "outputs": []
    },
    {
      "cell_type": "markdown",
      "metadata": {
        "id": "r8cLe0n7DdG5",
        "colab_type": "text"
      },
      "source": [
        "## Modelo Final"
      ]
    },
    {
      "cell_type": "code",
      "metadata": {
        "id": "XUODQh-BDiFb",
        "colab_type": "code",
        "colab": {}
      },
      "source": [
        "from __future__ import print_function\n",
        "import keras\n",
        "from keras.datasets import cifar10\n",
        "from keras.preprocessing.image import ImageDataGenerator\n",
        "from keras.models import Sequential\n",
        "from keras.layers import Dense, Dropout, Activation, Flatten\n",
        "from keras.layers import Conv2D, MaxPooling2D\n",
        "import numpy as np\n",
        "import os\n",
        "\n",
        "names = ['airplane', 'automobile', 'bird', 'cat', 'deer', 'dog', 'frog', 'horse', 'ship', 'truck']\n",
        "num_classes=len(names)\n",
        "# - - - - - - - - - - - - - - - - - - - - - - - - - - - - \n",
        "# Lectura y preprocesamiento de los datos\n",
        "# - - - - - - - - - - - - - - - - - - - - - - - - - - - - \n",
        "(x_train, y_train), (x_test, y_test)       = cifar10.load_data()\n",
        "(trainimages, numrows, numcols, numcolors) = x_train.shape\n",
        "\n",
        "# normalización\n",
        "x_train  = x_train.astype('float32') / 255.\n",
        "x_test   = x_test.astype('float32')  / 255.\n",
        "\n",
        "print('x_train shape:', trainimages, numrows, numcols, numcolors)\n",
        "print(x_train.shape[0], 'train samples')\n",
        "print(x_test.shape[0],  'test samples')\n",
        "\n",
        "# conversion de etiquetas a vectores indicadores\n",
        "y_train = keras.utils.to_categorical(y_train, num_classes)\n",
        "y_test  = keras.utils.to_categorical(y_test,  num_classes)\n",
        "\n",
        "# - - - - - - - - - - - - - - - - - - - - - - - - - - - - \n",
        "# CCN\n",
        "# - - - - - - - - - - - - - - - - - - - - - - - - - - - - \n",
        "model = Sequential()\n",
        "model.add(Conv2D(filters        = 32, \n",
        "                 kernel_size    = (3, 3), \n",
        "                 padding        = 'same', \n",
        "                 activation     = 'relu', \n",
        "                 input_shape    = x_train.shape[1:]))\n",
        "model.add(Conv2D(filters        = 32, \n",
        "                 kernel_size    = (3, 3), \n",
        "                 activation     = 'relu'))\n",
        "model.add(MaxPooling2D(pool_size= (2, 2)))\n",
        "model.add(Dropout(0.25))\n",
        "model.add(Conv2D(filters        = 64, \n",
        "                 kernel_size    = (3, 3), \n",
        "                 padding        = 'same',  \n",
        "                 activation     = 'relu'))\n",
        "model.add(Conv2D(filters        = 64, \n",
        "                 kernel_size    = (3, 3),  \n",
        "                 activation     = 'relu'))\n",
        "model.add(MaxPooling2D(pool_size= (2, 2)))\n",
        "model.add(Dropout(0.25))\n",
        "model.add(Flatten())\n",
        "model.add(Dense(units=512, activation= 'relu'))\n",
        "model.add(Dropout(0.25))\n",
        "model.add(Dense(units=num_classes, activation= 'softmax'))\n",
        "\n",
        "# definicion del optimizador\n",
        "opt = keras.optimizers.RMSprop(lr=0.0001, decay=1e-6)\n",
        "\n",
        "# compilacion del modelo\n",
        "model.compile(loss      = 'categorical_crossentropy',\n",
        "              optimizer = opt,\n",
        "              metrics   = ['accuracy'])\n",
        "\n",
        "# Parametros para Entrenamiento\n",
        "batch_size        = 32           # tamaño del lote (batch), originalmente 32\n",
        "num_classes       = 10 \n",
        "epochs            = 50           # originalmente 100\n",
        "data_augmentation = True\n",
        "# num_predictions = 20\n",
        "save_dir          = os.path.join(os.getcwd(), 'saved_models')\n",
        "model_name        = 'keras_cifar10_trained_model.h5' \n",
        "\n",
        "# - - - - - - - - - - - - - - - - - - - - - - - - - - - - \n",
        "# Entrenamiento CON/SIN aumentación\n",
        "# - - - - - - - - - - - - - - - - - - - - - - - - - - - - \n",
        "if not data_augmentation:\n",
        "    print('SIN Aumentación de datos.')\n",
        "    model.fit(x         = x_train, \n",
        "              y         = y_train,\n",
        "              batch_size= batch_size,\n",
        "              epochs    = epochs,\n",
        "              validation_split=.2,\n",
        "              shuffle=True)\n",
        "else:\n",
        "    print('CON Aumentación de datos en tiempo real.')\n",
        "    # This will do preprocessing and realtime data augmentation:\n",
        "    datagen = ImageDataGenerator(\n",
        "                featurewise_center           = False,  # pone la media de los rasgos a cero el conjunto de datos \n",
        "                samplewise_center            = False,  # pone cada dato a media cero\n",
        "                featurewise_std_normalization= False,  # divide cada razgo entre su desv estandard\n",
        "                samplewise_std_normalization = False,  # divide cada dato entre su desv estandard\n",
        "                zca_whitening                = False,  # aplica blanqueo ZCA\n",
        "                rotation_range               = 0,      # rota aleatoriamente la imagens estos grados (0 a +-180)\n",
        "                width_shift_range            = 0.1,    # recorre la imagen horizontalmente una razon alaatoria [0, r]\n",
        "                height_shift_range           = 0.1,    # recorre la imagen verticalmente una razon alaatoria [0, r]\n",
        "                horizontal_flip              = True,   # refleja aleatoriamente la imagen en forma horizontal\n",
        "                vertical_flip                = False)  # refleja aleatoriamente la imagen en forma vertical\n",
        "    \n",
        "    #  Calcula parametros internos necesario (medias, dev-std, PCA, etc).\n",
        "    datagen.fit(x_train)\n",
        "\n",
        "    # Ajusta el modelo en lotes generados \n",
        "    model.fit_generator(datagen.flow(\n",
        "                                    x          = x_train, \n",
        "                                    y          = y_train,\n",
        "                                    batch_size = batch_size\n",
        "                                    ),\n",
        "                        steps_per_epoch = int(np.ceil(x_train.shape[0] / float(batch_size))),\n",
        "                        epochs          = epochs,\n",
        "                        validation_data = (x_test, y_test)\n",
        "                       )\n",
        "\n",
        "# - - - - - - - - - - - - - - - - - - - - - - - - - - - - \n",
        "# Salva el modelo entrenado\n",
        "# - - - - - - - - - - - - - - - - - - - - - - - - - - - - \n",
        "if not os.path.isdir(save_dir):\n",
        "    os.makedirs(save_dir)\n",
        "model_path = os.path.join(save_dir, model_name)\n",
        "model.save(model_path)\n",
        "print('Saved trained model at %s ' % model_path)\n",
        "\n",
        "# - - - - - - - - - - - - - - - - - - - - - - - - - - - - \n",
        "# Evalua el modelo entrenado\n",
        "# - - - - - - - - - - - - - - - - - - - - - - - - - - - - \n",
        "scores = model.evaluate(x_test, y_test, verbose=1)\n",
        "print('Test loss:', scores[0])\n",
        "print('Test accuracy:', scores[1])"
      ],
      "execution_count": null,
      "outputs": []
    }
  ]
}